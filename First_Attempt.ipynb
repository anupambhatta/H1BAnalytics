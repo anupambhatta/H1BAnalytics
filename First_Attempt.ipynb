{
 "cells": [
  {
   "cell_type": "markdown",
   "metadata": {},
   "source": [
    "#### Import required packages"
   ]
  },
  {
   "cell_type": "code",
   "execution_count": 117,
   "metadata": {
    "collapsed": true
   },
   "outputs": [],
   "source": [
    "from pyspark import SparkConf, SparkContext\n",
    "from pyspark.sql import Row\n",
    "from pyspark.sql import SQLContext\n",
    "from pyspark.ml.feature import StringIndexer, OneHotEncoder\n",
    "from pyspark.mllib.regression import LabeledPoint\n",
    "from pyspark.mllib.classification import LogisticRegressionWithLBFGS, LogisticRegressionModel\n",
    "import re\n",
    "import numpy as np\n",
    "import matplotlib.pyplot as plt"
   ]
  },
  {
   "cell_type": "markdown",
   "metadata": {},
   "source": [
    "#### Create configs"
   ]
  },
  {
   "cell_type": "code",
   "execution_count": 118,
   "metadata": {
    "collapsed": true
   },
   "outputs": [],
   "source": [
    "conf = SparkConf().setMaster(\"local\").setAppName(\"Project_BigData\")\n",
    "sc = SparkContext.getOrCreate(conf = conf)\n",
    "sqlcon = SQLContext.getOrCreate(sc)"
   ]
  },
  {
   "cell_type": "markdown",
   "metadata": {},
   "source": [
    "#### Some global variables"
   ]
  },
  {
   "cell_type": "code",
   "execution_count": 134,
   "metadata": {
    "collapsed": false
   },
   "outputs": [],
   "source": [
    "pat1 = re.compile(r'\"([a-xA-Z0-9. ,]+), ([a-xA-Z0-9. ,]+)\"')\n",
    "pat2 = re.compile(r'\"([,]+)\"')\n",
    "keep = ['CASE_STATUS','EMPLOYER_NAME','EMPLOYER_STATE',\\\n",
    "        'AGENT_REPRESENTING_EMPLOYER','JOB_TITLE','SOC_NAME','NAICS_CODE','TOTAL_WORKERS',\\\n",
    "        'NEW_EMPLOYMENT','CONTINUED_EMPLOYMENT','CHANGE_PREVIOUS_EMPLOYMENT',\\\n",
    "        'NEW_CONCURRENT_EMPLOYMENT','CHANGE_EMPLOYER','AMENDED_PETITION','FULL_TIME_POSITION',\\\n",
    "        'PREVAILING_WAGE','H1B_DEPENDENT','SUPPORT_H1B','WORKSITE_STATE','CASE_SUBMITTED']\n",
    "#We need to decide how to use the date 'CASE_SUBMITTED', add back to the list above once decided.\n",
    "categorical = {\"CASE_STATUS\":\"CASE_STATUS_C\", \"EMPLOYER_NAME\":\"EMPLOYER_NAME_C\",\\\n",
    "              \"EMPLOYER_STATE\":\"EMPLOYER_STATE_C\",\"AGENT_REPRESENTING_EMPLOYER\":\"AGENT_REPRESENTING_EMPLOYER_C\",\\\n",
    "              \"JOB_TITLE\":\"JOB_TITLE_C\",\"SOC_NAME\":\"SOC_NAME_C\",\"NAICS_CODE\":\"NAICS_CODE_C\",\\\n",
    "              \"FULL_TIME_POSITION\":\"FULL_TIME_POSITION_C\",\"H1B_DEPENDENT\":\"H1B_DEPENDENT_C\",\\\n",
    "              \"WORKSITE_STATE\":\"WORKSITE_STATE_C\",\"SUPPORT_H1B\":\"SUPPORT_H1B_C\"}\n",
    "target = [\"CASE_STATUS_C\",\"CASE_SUBMITTED\"]"
   ]
  },
  {
   "cell_type": "markdown",
   "metadata": {},
   "source": [
    "### Data Preparation\n",
    "Involves several methods to cleanup data - remove unnecessary columns, conversion to categorical variables, remove commas within quotes strings, conversion wage to yearly wage etc."
   ]
  },
  {
   "cell_type": "code",
   "execution_count": 120,
   "metadata": {
    "collapsed": true
   },
   "outputs": [],
   "source": [
    "def replaceCommaWithinQuotes(line):\n",
    "    '''\n",
    "    Remove commas within quotes with some words, recursion makes sure we reomve all such commas\n",
    "    '''\n",
    "    if len(pat1.findall(line)) == 0:\n",
    "        return line\n",
    "    line = pat1.sub( r'\"\\1 \\2\"', line )\n",
    "    return replaceCommaWithinQuotes(line)"
   ]
  },
  {
   "cell_type": "code",
   "execution_count": 121,
   "metadata": {
    "collapsed": false
   },
   "outputs": [],
   "source": [
    "def yearlyWage(data_dict):\n",
    "    '''\n",
    "    Converts the prevailing wage to yearly.\n",
    "    '''\n",
    "    sal = 0.0\n",
    "    try:\n",
    "        sal = float(data_dict['PREVAILING_WAGE'])\n",
    "    except:\n",
    "        sal = 0.0\n",
    "        #do nothing\n",
    "    if data_dict['PW_UNIT_OF_PAY'] == 'Hour':\n",
    "        sal = sal*40*52 #40 hrs/week,52 weeks/yr\n",
    "    if data_dict['PW_UNIT_OF_PAY'] == 'Week':\n",
    "        sal = sal*52    #52 weeks/yr\n",
    "    if data_dict['PW_UNIT_OF_PAY'] == 'Bi-Weekly':\n",
    "        sal = sal*26    #52 weeks/yr,hence 26 bi-weeks \n",
    "    if data_dict['PW_UNIT_OF_PAY'] == 'Month':\n",
    "        sal = sal*12    #12 months/yr\n",
    "    if data_dict['PW_UNIT_OF_PAY'] == 'Year':\n",
    "        sal == sal\n",
    "    data_dict['PREVAILING_WAGE'] = sal\n",
    "    return data_dict"
   ]
  },
  {
   "cell_type": "code",
   "execution_count": 122,
   "metadata": {
    "collapsed": false
   },
   "outputs": [],
   "source": [
    "def createRow(line, headers):\n",
    "    '''\n",
    "    Returns a dictionary with headers as key and their values as the values\n",
    "    '''\n",
    "    data_dict = {}\n",
    "    #Replace comma, within words between two quotes, with blank\n",
    "    line = replaceCommaWithinQuotes(line) #This line may still have just comma within quotes-\",\"\n",
    "    #line = pat2.sub(r'\"\"', line) - something weird is happening because of this line\n",
    "\n",
    "    data_list = line.split(\",\")\n",
    "    j = 0 #another index\n",
    "    for i in range(len(headers)):\n",
    "        if data_list[j] == '\"': #In case we encounter a \" we avoid it and move ahead.\n",
    "            j = j+1\n",
    "        if headers[i] == \"\":\n",
    "            data_dict[\"S_NO\"] = int(data_list[j])\n",
    "        else:\n",
    "            data_dict[headers[i]] = data_list[j]\n",
    "        j = j+1\n",
    "    #We make the prevailing wage yearly\n",
    "    data_dict = yearlyWage(data_dict)\n",
    "    date_submitted = data_dict[\"CASE_SUBMITTED\"]\n",
    "    data_dict[\"CASE_SUBMITTED\"] = date_submitted[-4:]\n",
    "    return data_dict"
   ]
  },
  {
   "cell_type": "code",
   "execution_count": 123,
   "metadata": {
    "collapsed": true
   },
   "outputs": [],
   "source": [
    "def convertToCategorical(columns, dataframe):\n",
    "    '''\n",
    "    Converts each column in dataframe to its corresponding Cateforical column.\n",
    "    columns is a dict representing the column as key and new colmn as value.\n",
    "    '''\n",
    "    for column in columns:\n",
    "        indexer = StringIndexer(inputCol=column, outputCol=columns[column])\n",
    "        dataframe = indexer.fit(dataframe).transform(dataframe)\n",
    "    return dataframe\n"
   ]
  },
  {
   "cell_type": "code",
   "execution_count": 124,
   "metadata": {
    "collapsed": true
   },
   "outputs": [],
   "source": [
    "def createLabeledPoints(line):\n",
    "    '''\n",
    "    Converts each value to a float and returns as LabeledPoint.\n",
    "    If conversion fails then null is returned.\n",
    "    '''\n",
    "    values = []\n",
    "    for x in line:\n",
    "        try:\n",
    "            values.append(float(x))\n",
    "        except:\n",
    "            return None\n",
    "    return LabeledPoint(values[0], values[1:])"
   ]
  },
  {
   "cell_type": "markdown",
   "metadata": {},
   "source": [
    "#### Read the data from HDFS"
   ]
  },
  {
   "cell_type": "code",
   "execution_count": 125,
   "metadata": {
    "collapsed": true
   },
   "outputs": [],
   "source": [
    "h1b_data = sc.textFile(\\\n",
    "           \"hdfs://quickstart.cloudera:8020/user/cloudera/Project/H-1B_Disclosure_Data_FY17_small.csv\")"
   ]
  },
  {
   "cell_type": "markdown",
   "metadata": {},
   "source": [
    "#### Extract headers from the data.\n",
    " "
   ]
  },
  {
   "cell_type": "code",
   "execution_count": 126,
   "metadata": {
    "collapsed": false
   },
   "outputs": [],
   "source": [
    "headers_string = h1b_data.take(1)[0]\n",
    "headers = headers_string.split(\",\")\n",
    "h1b_data = h1b_data.filter(lambda x: x != headers_string)"
   ]
  },
  {
   "cell_type": "markdown",
   "metadata": {},
   "source": [
    "#### Create the map and then dataframe from the map using sql context"
   ]
  },
  {
   "cell_type": "code",
   "execution_count": 127,
   "metadata": {
    "collapsed": false,
    "scrolled": false
   },
   "outputs": [],
   "source": [
    "h1_data_map = h1b_data.map(lambda x: Row(**createRow(x, headers)))\n",
    "h1b_data_frame = sqlcon.createDataFrame(h1_data_map).cache()"
   ]
  },
  {
   "cell_type": "markdown",
   "metadata": {},
   "source": [
    "#### Filter Data based on visa type, we need only H1B visas."
   ]
  },
  {
   "cell_type": "code",
   "execution_count": 128,
   "metadata": {
    "collapsed": true
   },
   "outputs": [],
   "source": [
    "h1b_data_frame = h1b_data_frame.where(h1b_data_frame['VISA_CLASS'] == 'H-1B')"
   ]
  },
  {
   "cell_type": "code",
   "execution_count": 129,
   "metadata": {
    "collapsed": false
   },
   "outputs": [
    {
     "data": {
      "text/plain": [
       "[Row(AGENT_ATTORNEY_CITY=u'NEW YORK', AGENT_ATTORNEY_NAME=u'\"ELLSWORTH CHAD\"', AGENT_ATTORNEY_STATE=u'NY', AGENT_REPRESENTING_EMPLOYER=u'Y', AMENDED_PETITION=u'0', CASE_NUMBER=u'I-200-16055-173457', CASE_STATUS=u'CERTIFIED-WITHDRAWN', CASE_SUBMITTED=u'2016', CHANGE_EMPLOYER=u'0', CHANGE_PREVIOUS_EMPLOYMENT=u'0', CONTINUED_EMPLOYMENT=u'0', DECISION_DATE=u'10/1/2016', EMPLOYER_ADDRESS=u'2500 LAKE COOK ROAD', EMPLOYER_BUSINESS_DBA=u'', EMPLOYER_CITY=u'RIVERWOODS', EMPLOYER_COUNTRY=u'UNITED STATES OF AMERICA', EMPLOYER_NAME=u'DISCOVER PRODUCTS INC.', EMPLOYER_PHONE=u'2244050900', EMPLOYER_PHONE_EXT=u'', EMPLOYER_POSTAL_CODE=u'60015', EMPLOYER_PROVINCE=u'', EMPLOYER_STATE=u'IL', EMPLOYMENT_END_DATE=u'8/10/2019', EMPLOYMENT_START_DATE=u'8/10/2016', FULL_TIME_POSITION=u'Y', H1B_DEPENDENT=u'N', JOB_TITLE=u'ASSOCIATE DATA INTEGRATION', LABOR_CON_AGREE=u'Y', NAICS_CODE=u'522210', NEW_CONCURRENT_EMPLOYMENT=u'0', NEW_EMPLOYMENT=u'1', ORIGINAL_CERT_DATE=u'3/1/2016', PREVAILING_WAGE=59197.0, PUBLIC_DISCLOSURE_LOCATION=u'', PW_SOURCE=u'OES', PW_SOURCE_OTHER=u'OFLC ONLINE DATA CENTER', PW_SOURCE_YEAR=u'2015', PW_UNIT_OF_PAY=u'Year', PW_WAGE_LEVEL=u'Level I', SOC_CODE=u'15-1121', SOC_NAME=u'COMPUTER SYSTEMS ANALYSTS', SUPPORT_H1B=u'', S_NO=0, TOTAL_WORKERS=u'1', VISA_CLASS=u'H-1B', WAGE_RATE_OF_PAY_FROM=u'65811', WAGE_RATE_OF_PAY_TO=u'67320', WAGE_UNIT_OF_PAY=u'Year', WILLFUL_VIOLATOR=u'N', WORKSITE_CITY=u'RIVERWOODS', WORKSITE_COUNTY=u'LAKE', WORKSITE_POSTAL_CODE=u'60015', WORKSITE_STATE=u'IL'),\n",
       " Row(AGENT_ATTORNEY_CITY=u'NEW YORK', AGENT_ATTORNEY_NAME=u'\"ELLSWORTH CHAD\"', AGENT_ATTORNEY_STATE=u'NY', AGENT_REPRESENTING_EMPLOYER=u'Y', AMENDED_PETITION=u'0', CASE_NUMBER=u'I-200-16064-557834', CASE_STATUS=u'CERTIFIED-WITHDRAWN', CASE_SUBMITTED=u'2016', CHANGE_EMPLOYER=u'0', CHANGE_PREVIOUS_EMPLOYMENT=u'0', CONTINUED_EMPLOYMENT=u'0', DECISION_DATE=u'10/1/2016', EMPLOYER_ADDRESS=u'2500 LAKE COOK ROAD', EMPLOYER_BUSINESS_DBA=u'', EMPLOYER_CITY=u'RIVERWOODS', EMPLOYER_COUNTRY=u'UNITED STATES OF AMERICA', EMPLOYER_NAME=u'DFS SERVICES LLC', EMPLOYER_PHONE=u'2244050900', EMPLOYER_PHONE_EXT=u'', EMPLOYER_POSTAL_CODE=u'60015', EMPLOYER_PROVINCE=u'', EMPLOYER_STATE=u'IL', EMPLOYMENT_END_DATE=u'8/16/2019', EMPLOYMENT_START_DATE=u'8/16/2016', FULL_TIME_POSITION=u'Y', H1B_DEPENDENT=u'N', JOB_TITLE=u'SENIOR ASSOCIATE', LABOR_CON_AGREE=u'Y', NAICS_CODE=u'522210', NEW_CONCURRENT_EMPLOYMENT=u'0', NEW_EMPLOYMENT=u'1', ORIGINAL_CERT_DATE=u'3/8/2016', PREVAILING_WAGE=49800.0, PUBLIC_DISCLOSURE_LOCATION=u'', PW_SOURCE=u'Other', PW_SOURCE_OTHER=u'TOWERS WATSON DATA SERVICES 2015 CSR PROFESSIONAL (ADMINISTRATIVE AND SALES) C', PW_SOURCE_YEAR=u'2015', PW_UNIT_OF_PAY=u'Year', PW_WAGE_LEVEL=u'', SOC_CODE=u'15-2031', SOC_NAME=u'OPERATIONS RESEARCH ANALYSTS', SUPPORT_H1B=u'', S_NO=1, TOTAL_WORKERS=u'1', VISA_CLASS=u'H-1B', WAGE_RATE_OF_PAY_FROM=u'53000', WAGE_RATE_OF_PAY_TO=u'57200', WAGE_UNIT_OF_PAY=u'Year', WILLFUL_VIOLATOR=u'N', WORKSITE_CITY=u'RIVERWOODS', WORKSITE_COUNTY=u'LAKE', WORKSITE_POSTAL_CODE=u'60015', WORKSITE_STATE=u'IL')]"
      ]
     },
     "execution_count": 129,
     "metadata": {},
     "output_type": "execute_result"
    }
   ],
   "source": [
    "h1b_data_frame.collect()[:2]"
   ]
  },
  {
   "cell_type": "markdown",
   "metadata": {},
   "source": [
    "#### Take a small subset and convert to pandas just to show the data."
   ]
  },
  {
   "cell_type": "code",
   "execution_count": 130,
   "metadata": {
    "collapsed": false
   },
   "outputs": [
    {
     "data": {
      "text/html": [
       "<div>\n",
       "<table border=\"1\" class=\"dataframe\">\n",
       "  <thead>\n",
       "    <tr style=\"text-align: right;\">\n",
       "      <th></th>\n",
       "      <th>AGENT_ATTORNEY_CITY</th>\n",
       "      <th>AGENT_ATTORNEY_NAME</th>\n",
       "      <th>AGENT_ATTORNEY_STATE</th>\n",
       "      <th>AGENT_REPRESENTING_EMPLOYER</th>\n",
       "      <th>AMENDED_PETITION</th>\n",
       "      <th>CASE_NUMBER</th>\n",
       "      <th>CASE_STATUS</th>\n",
       "      <th>CASE_SUBMITTED</th>\n",
       "      <th>CHANGE_EMPLOYER</th>\n",
       "      <th>CHANGE_PREVIOUS_EMPLOYMENT</th>\n",
       "      <th>...</th>\n",
       "      <th>TOTAL_WORKERS</th>\n",
       "      <th>VISA_CLASS</th>\n",
       "      <th>WAGE_RATE_OF_PAY_FROM</th>\n",
       "      <th>WAGE_RATE_OF_PAY_TO</th>\n",
       "      <th>WAGE_UNIT_OF_PAY</th>\n",
       "      <th>WILLFUL_VIOLATOR</th>\n",
       "      <th>WORKSITE_CITY</th>\n",
       "      <th>WORKSITE_COUNTY</th>\n",
       "      <th>WORKSITE_POSTAL_CODE</th>\n",
       "      <th>WORKSITE_STATE</th>\n",
       "    </tr>\n",
       "  </thead>\n",
       "  <tbody>\n",
       "    <tr>\n",
       "      <th>0</th>\n",
       "      <td>NEW YORK</td>\n",
       "      <td>\"ELLSWORTH CHAD\"</td>\n",
       "      <td>NY</td>\n",
       "      <td>Y</td>\n",
       "      <td>0</td>\n",
       "      <td>I-200-16055-173457</td>\n",
       "      <td>CERTIFIED-WITHDRAWN</td>\n",
       "      <td>2016</td>\n",
       "      <td>0</td>\n",
       "      <td>0</td>\n",
       "      <td>...</td>\n",
       "      <td>1</td>\n",
       "      <td>H-1B</td>\n",
       "      <td>65811</td>\n",
       "      <td>67320</td>\n",
       "      <td>Year</td>\n",
       "      <td>N</td>\n",
       "      <td>RIVERWOODS</td>\n",
       "      <td>LAKE</td>\n",
       "      <td>60015</td>\n",
       "      <td>IL</td>\n",
       "    </tr>\n",
       "    <tr>\n",
       "      <th>1</th>\n",
       "      <td>NEW YORK</td>\n",
       "      <td>\"ELLSWORTH CHAD\"</td>\n",
       "      <td>NY</td>\n",
       "      <td>Y</td>\n",
       "      <td>0</td>\n",
       "      <td>I-200-16064-557834</td>\n",
       "      <td>CERTIFIED-WITHDRAWN</td>\n",
       "      <td>2016</td>\n",
       "      <td>0</td>\n",
       "      <td>0</td>\n",
       "      <td>...</td>\n",
       "      <td>1</td>\n",
       "      <td>H-1B</td>\n",
       "      <td>53000</td>\n",
       "      <td>57200</td>\n",
       "      <td>Year</td>\n",
       "      <td>N</td>\n",
       "      <td>RIVERWOODS</td>\n",
       "      <td>LAKE</td>\n",
       "      <td>60015</td>\n",
       "      <td>IL</td>\n",
       "    </tr>\n",
       "    <tr>\n",
       "      <th>2</th>\n",
       "      <td>WASHINGTON</td>\n",
       "      <td>\"BURKE KAREN\"</td>\n",
       "      <td>DC</td>\n",
       "      <td>Y</td>\n",
       "      <td>0</td>\n",
       "      <td>I-200-16063-996093</td>\n",
       "      <td>CERTIFIED-WITHDRAWN</td>\n",
       "      <td>2016</td>\n",
       "      <td>0</td>\n",
       "      <td>0</td>\n",
       "      <td>...</td>\n",
       "      <td>2</td>\n",
       "      <td>H-1B</td>\n",
       "      <td>77000</td>\n",
       "      <td>0</td>\n",
       "      <td>Year</td>\n",
       "      <td>N</td>\n",
       "      <td>WASHINGTON</td>\n",
       "      <td></td>\n",
       "      <td>20007</td>\n",
       "      <td>DC</td>\n",
       "    </tr>\n",
       "    <tr>\n",
       "      <th>3</th>\n",
       "      <td></td>\n",
       "      <td>\"</td>\n",
       "      <td></td>\n",
       "      <td>N</td>\n",
       "      <td>0</td>\n",
       "      <td>I-200-16272-196340</td>\n",
       "      <td>WITHDRAWN</td>\n",
       "      <td>2016</td>\n",
       "      <td>0</td>\n",
       "      <td>0</td>\n",
       "      <td>...</td>\n",
       "      <td>1</td>\n",
       "      <td>H-1B</td>\n",
       "      <td>102000</td>\n",
       "      <td>0</td>\n",
       "      <td>Year</td>\n",
       "      <td>N</td>\n",
       "      <td>JERSEY CITY</td>\n",
       "      <td>HUDSON</td>\n",
       "      <td>7302</td>\n",
       "      <td>NJ</td>\n",
       "    </tr>\n",
       "    <tr>\n",
       "      <th>4</th>\n",
       "      <td>ATLANTA</td>\n",
       "      <td>\"SCOFIELD EILEEN\"</td>\n",
       "      <td>GA</td>\n",
       "      <td>Y</td>\n",
       "      <td>0</td>\n",
       "      <td>I-200-15053-636744</td>\n",
       "      <td>CERTIFIED-WITHDRAWN</td>\n",
       "      <td>2015</td>\n",
       "      <td>1</td>\n",
       "      <td>0</td>\n",
       "      <td>...</td>\n",
       "      <td>1</td>\n",
       "      <td>H-1B</td>\n",
       "      <td>132500</td>\n",
       "      <td>0</td>\n",
       "      <td>Year</td>\n",
       "      <td>N</td>\n",
       "      <td>NEW YORK</td>\n",
       "      <td>NEW YORK</td>\n",
       "      <td>10036</td>\n",
       "      <td>NY</td>\n",
       "    </tr>\n",
       "  </tbody>\n",
       "</table>\n",
       "<p>5 rows × 53 columns</p>\n",
       "</div>"
      ],
      "text/plain": [
       "  AGENT_ATTORNEY_CITY AGENT_ATTORNEY_NAME AGENT_ATTORNEY_STATE  \\\n",
       "0            NEW YORK    \"ELLSWORTH CHAD\"                   NY   \n",
       "1            NEW YORK    \"ELLSWORTH CHAD\"                   NY   \n",
       "2          WASHINGTON       \"BURKE KAREN\"                   DC   \n",
       "3                                       \"                        \n",
       "4             ATLANTA   \"SCOFIELD EILEEN\"                   GA   \n",
       "\n",
       "  AGENT_REPRESENTING_EMPLOYER AMENDED_PETITION         CASE_NUMBER  \\\n",
       "0                           Y                0  I-200-16055-173457   \n",
       "1                           Y                0  I-200-16064-557834   \n",
       "2                           Y                0  I-200-16063-996093   \n",
       "3                           N                0  I-200-16272-196340   \n",
       "4                           Y                0  I-200-15053-636744   \n",
       "\n",
       "           CASE_STATUS CASE_SUBMITTED CHANGE_EMPLOYER  \\\n",
       "0  CERTIFIED-WITHDRAWN           2016               0   \n",
       "1  CERTIFIED-WITHDRAWN           2016               0   \n",
       "2  CERTIFIED-WITHDRAWN           2016               0   \n",
       "3            WITHDRAWN           2016               0   \n",
       "4  CERTIFIED-WITHDRAWN           2015               1   \n",
       "\n",
       "  CHANGE_PREVIOUS_EMPLOYMENT      ...       TOTAL_WORKERS VISA_CLASS  \\\n",
       "0                          0      ...                   1       H-1B   \n",
       "1                          0      ...                   1       H-1B   \n",
       "2                          0      ...                   2       H-1B   \n",
       "3                          0      ...                   1       H-1B   \n",
       "4                          0      ...                   1       H-1B   \n",
       "\n",
       "  WAGE_RATE_OF_PAY_FROM WAGE_RATE_OF_PAY_TO WAGE_UNIT_OF_PAY WILLFUL_VIOLATOR  \\\n",
       "0                 65811               67320             Year                N   \n",
       "1                 53000               57200             Year                N   \n",
       "2                 77000                   0             Year                N   \n",
       "3                102000                   0             Year                N   \n",
       "4                132500                   0             Year                N   \n",
       "\n",
       "  WORKSITE_CITY WORKSITE_COUNTY WORKSITE_POSTAL_CODE WORKSITE_STATE  \n",
       "0    RIVERWOODS            LAKE                60015             IL  \n",
       "1    RIVERWOODS            LAKE                60015             IL  \n",
       "2    WASHINGTON                                20007             DC  \n",
       "3   JERSEY CITY          HUDSON                 7302             NJ  \n",
       "4      NEW YORK        NEW YORK                10036             NY  \n",
       "\n",
       "[5 rows x 53 columns]"
      ]
     },
     "execution_count": 130,
     "metadata": {},
     "output_type": "execute_result"
    }
   ],
   "source": [
    "h1b_data_frame_0 = h1b_data_frame.where(h1b_data_frame['S_NO'] < 5 )\n",
    "h1b_data_frame_0.toPandas()"
   ]
  },
  {
   "cell_type": "markdown",
   "metadata": {
    "collapsed": false
   },
   "source": [
    "#### Convert required columns to categorical variables."
   ]
  },
  {
   "cell_type": "code",
   "execution_count": 131,
   "metadata": {
    "collapsed": false
   },
   "outputs": [],
   "source": [
    "h1b_data_frame_1 = convertToCategorical(categorical, h1b_data_frame)"
   ]
  },
  {
   "cell_type": "markdown",
   "metadata": {},
   "source": [
    "#### Keep columns that we are going to work with in a new dataframe, we remove the old columns that were converted to categorical since we need only the categorical version of those columns."
   ]
  },
  {
   "cell_type": "code",
   "execution_count": 135,
   "metadata": {
    "collapsed": false
   },
   "outputs": [],
   "source": [
    "keeps = [x for x in keep if x not in categorical.keys() ] + categorical.values()\n",
    "keeps = target + [x for x in keeps if x not in target]\n",
    "h1b_data_frame_2 = h1b_data_frame_1[keeps].cache()"
   ]
  },
  {
   "cell_type": "markdown",
   "metadata": {},
   "source": [
    "#### Convert to LabeledPoints which  is required for  modelling of the data."
   ]
  },
  {
   "cell_type": "code",
   "execution_count": 136,
   "metadata": {
    "collapsed": false
   },
   "outputs": [],
   "source": [
    "h1b_labeled_points = h1b_data_frame_2.map(createLabeledPoints)\n",
    "h1b_labeled_points = h1b_labeled_points.filter(lambda x : x != None)"
   ]
  },
  {
   "cell_type": "markdown",
   "metadata": {},
   "source": [
    "#### Going ahead....\n",
    "$ \\textbf{h1b_data_frame}$  can be used for visualization purposes                               \n",
    "$ \\textbf{h1b_data_frame_1}$ can be used to find categories and their respective codes          \n",
    "$ \\textbf{h1b_data_frame_2}$ and h1b_labeled_points can be used for modelling purposes"
   ]
  },
  {
   "cell_type": "markdown",
   "metadata": {},
   "source": [
    "### Visualization"
   ]
  },
  {
   "cell_type": "code",
   "execution_count": 137,
   "metadata": {
    "collapsed": true
   },
   "outputs": [],
   "source": [
    "def barPlot(dataframe):\n",
    "    \"\"\"\n",
    "    Takes a dataframe with two columns and creates bar plot.\n",
    "    The first column is the labels and second is the count.\n",
    "    The dataframe is a pyspark dataframe\n",
    "    \"\"\"\n",
    "    X = []\n",
    "    Y = []\n",
    "    for x in dataframe.collect():\n",
    "        X.append(x[0])\n",
    "        Y.append(x[1])\n",
    "    pos = np.arange(len(X))\n",
    "    \n",
    "    plt.barh(pos, Y, align='center')\n",
    "    plt.yticks(pos, X)"
   ]
  },
  {
   "cell_type": "markdown",
   "metadata": {},
   "source": [
    "#### 1. Company-wise 'denied' status.\n",
    "Here we look at the top 10 companies with most denied status. (Ask Panda to create a dataset with all kinds of cases and then use that, till then do visualization for CERTIFIED)"
   ]
  },
  {
   "cell_type": "code",
   "execution_count": 138,
   "metadata": {
    "collapsed": false
   },
   "outputs": [
    {
     "data": {
      "image/png": "[encoded data removed]",
      "text/plain": [
       "<matplotlib.figure.Figure at 0x7fb369618d10>"
      ]
     },
     "metadata": {},
     "output_type": "display_data"
    }
   ],
   "source": [
    "denials_by_company = h1b_data_frame.where(h1b_data_frame['CASE_STATUS'] == 'CERTIFIED')\n",
    "denials_by_company = denials_by_company.map(lambda x : (x.EMPLOYER_NAME, 1)).\\\n",
    "                    reduceByKey(lambda x,y : x+y)\n",
    "denials_by_company_sorted = denials_by_company.sortBy(lambda x : x[1], ascending=False)\n",
    "denials_by_company_sorted_10 = denials_by_company_sorted.toDF().limit(10)\n",
    "barPlot(denials_by_company_sorted_10)\n",
    "plt.show()"
   ]
  },
  {
   "cell_type": "markdown",
   "metadata": {},
   "source": [
    "#### 2. State-wise average prevailing wage\n",
    "Here we take the average prevailing wage of all employees from each state."
   ]
  },
  {
   "cell_type": "code",
   "execution_count": 139,
   "metadata": {
    "collapsed": false
   },
   "outputs": [
    {
     "data": {
      "image/png": "[encoded data removed]",
      "text/plain": [
       "<matplotlib.figure.Figure at 0x7fb36955ca50>"
      ]
     },
     "metadata": {},
     "output_type": "display_data"
    }
   ],
   "source": [
    "prevailingwage_by_state = h1b_data_frame.map(lambda x :(x.EMPLOYER_STATE, (x.PREVAILING_WAGE, 1)))\\\n",
    "    .reduceByKey(lambda x, y : (x[0]+y[0], x[1]+y[1]))\\\n",
    "    .mapValues(lambda x : float(x[0])/float(x[1]))\n",
    "prevailingwage_by_state_sorted = prevailingwage_by_state.sortBy(lambda x : x[1], ascending=False)\n",
    "prevailingwage_by_state_sorted_10 = prevailingwage_by_state_sorted.toDF().limit(10)\n",
    "barPlot(prevailingwage_by_state_sorted_10)\n",
    "plt.show()"
   ]
  },
  {
   "cell_type": "markdown",
   "metadata": {},
   "source": [
    "#### 3. Year-wise 'certified' status\n",
    "Here we visualize year wise certified status. We print the percentages to see how the trend goes."
   ]
  },
  {
   "cell_type": "code",
   "execution_count": 146,
   "metadata": {
    "collapsed": false
   },
   "outputs": [
    {
     "data": {
      "image/png": "[encoded data removed]",
      "text/plain": [
       "<matplotlib.figure.Figure at 0x7fb36981ae90>"
      ]
     },
     "metadata": {},
     "output_type": "display_data"
    }
   ],
   "source": [
    "certified_by_year = h1b_data_frame\\\n",
    ".map(lambda x : (x.CASE_SUBMITTED, (1, 1 if x.CASE_STATUS == 'CERTIFIED' else 0)))\\\n",
    ".reduceByKey(lambda x, y : (x[0]+y[0], x[1]+y[1]))\\\n",
    ".mapValues(lambda x : float(x[1])*100/float(x[0]))\n",
    "certified_by_year.collect()\n",
    "barPlot(certified_by_year)\n",
    "plt.show()"
   ]
  },
  {
   "cell_type": "code",
   "execution_count": 115,
   "metadata": {
    "collapsed": false
   },
   "outputs": [
    {
     "data": {
      "image/png": "[encoded data removed]",
      "text/plain": [
       "<matplotlib.figure.Figure at 0x7fb369773a90>"
      ]
     },
     "metadata": {},
     "output_type": "display_data"
    }
   ],
   "source": [
    "class_count = h1b_data_frame.map(lambda x : (x.CASE_STATUS, 1)).reduceByKey(lambda x, y : x+y)\n",
    "barPlot(class_count)\n",
    "plt.show()"
   ]
  },
  {
   "cell_type": "markdown",
   "metadata": {
    "collapsed": false
   },
   "source": [
    "#### Logistic Regression"
   ]
  },
  {
   "cell_type": "code",
   "execution_count": null,
   "metadata": {
    "collapsed": false
   },
   "outputs": [],
   "source": [
    "model = LogisticRegressionWithLBFGS.train(h1b_labeled_points, numClasses=4)"
   ]
  },
  {
   "cell_type": "markdown",
   "metadata": {},
   "source": [
    "#### Evaluate model on training data"
   ]
  },
  {
   "cell_type": "code",
   "execution_count": null,
   "metadata": {
    "collapsed": false
   },
   "outputs": [],
   "source": [
    "real_predictions = h1b_labeled_points.map(lambda x : (x.label, model.predict(x.features)))"
   ]
  },
  {
   "cell_type": "markdown",
   "metadata": {},
   "source": [
    "#### Accuracy based on number of correct predictions."
   ]
  },
  {
   "cell_type": "code",
   "execution_count": null,
   "metadata": {
    "collapsed": false
   },
   "outputs": [],
   "source": [
    "total = real_predictions.count()\n",
    "trues = real_predictions.filter(lambda x : x[0]==x[1]).count()\n",
    "accuracy = 100*float(trues)/float(total)\n",
    "print(accuracy)"
   ]
  }
 ],
 "metadata": {
  "kernelspec": {
   "display_name": "Python 2",
   "language": "python",
   "name": "python2"
  },
  "language_info": {
   "codemirror_mode": {
    "name": "ipython",
    "version": 2
   },
   "file_extension": ".py",
   "mimetype": "text/x-python",
   "name": "python",
   "nbconvert_exporter": "python",
   "pygments_lexer": "ipython2",
   "version": "2.7.13"
  }
 },
 "nbformat": 4,
 "nbformat_minor": 2
}
