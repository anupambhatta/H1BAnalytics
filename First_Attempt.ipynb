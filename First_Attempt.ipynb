{
 "cells": [
  {
   "cell_type": "code",
   "execution_count": 1,
   "metadata": {
    "collapsed": false
   },
   "outputs": [],
   "source": [
    "from pyspark import SparkConf, SparkContext\n",
    "from pyspark.sql.types import Row\n",
    "\n",
    "conf = SparkConf().setMaster(\"local\").setAppName(\"Project_BigData\")\n",
    "sc = SparkContext.getOrCreate(conf = conf)"
   ]
  },
  {
   "cell_type": "code",
   "execution_count": 2,
   "metadata": {
    "collapsed": false
   },
   "outputs": [
    {
     "data": {
      "text/plain": [
       "[u',CASE_NUMBER,CASE_STATUS,CASE_SUBMITTED,DECISION_DATE,VISA_CLASS,EMPLOYMENT_START_DATE,EMPLOYMENT_END_DATE,EMPLOYER_NAME,EMPLOYER_BUSINESS_DBA,EMPLOYER_ADDRESS,EMPLOYER_CITY,EMPLOYER_STATE,EMPLOYER_POSTAL_CODE,EMPLOYER_COUNTRY,EMPLOYER_PROVINCE,EMPLOYER_PHONE,EMPLOYER_PHONE_EXT,AGENT_REPRESENTING_EMPLOYER,AGENT_ATTORNEY_NAME,AGENT_ATTORNEY_CITY,AGENT_ATTORNEY_STATE,JOB_TITLE,SOC_CODE,SOC_NAME,NAICS_CODE,TOTAL_WORKERS,NEW_EMPLOYMENT,CONTINUED_EMPLOYMENT,CHANGE_PREVIOUS_EMPLOYMENT,NEW_CONCURRENT_EMPLOYMENT,CHANGE_EMPLOYER,AMENDED_PETITION,FULL_TIME_POSITION,PREVAILING_WAGE,PW_UNIT_OF_PAY,PW_WAGE_LEVEL,PW_SOURCE,PW_SOURCE_YEAR,PW_SOURCE_OTHER,WAGE_RATE_OF_PAY_FROM,WAGE_RATE_OF_PAY_TO,WAGE_UNIT_OF_PAY,H1B_DEPENDENT,WILLFUL_VIOLATOR,SUPPORT_H1B,LABOR_CON_AGREE,PUBLIC_DISCLOSURE_LOCATION,WORKSITE_CITY,WORKSITE_COUNTY,WORKSITE_STATE,WORKSITE_POSTAL_CODE,ORIGINAL_CERT_DATE',\n",
       " u'0,I-200-16055-173457,CERTIFIED-WITHDRAWN,2016-02-24,2016-10-01,H-1B,2016-08-10,2019-08-10,DISCOVER PRODUCTS INC.,,2500 LAKE COOK ROAD,RIVERWOODS,IL,60015,UNITED STATES OF AMERICA,,2244050900,,Y,\"ELLSWORTH, CHAD\",NEW YORK,NY,ASSOCIATE DATA INTEGRATION,15-1121,COMPUTER SYSTEMS ANALYSTS,522210,1,1,0,0,0,0,0,Y,59197.0,Year,Level I,OES,2015.0,OFLC ONLINE DATA CENTER,65811.0,67320.0,Year,N,N,,Y,,RIVERWOODS,LAKE,IL,60015,2016-03-01',\n",
       " u'1,I-200-16064-557834,CERTIFIED-WITHDRAWN,2016-03-04,2016-10-01,H-1B,2016-08-16,2019-08-16,DFS SERVICES LLC,,2500 LAKE COOK ROAD,RIVERWOODS,IL,60015,UNITED STATES OF AMERICA,,2244050900,,Y,\"ELLSWORTH, CHAD\",NEW YORK,NY,SENIOR ASSOCIATE,15-2031,OPERATIONS RESEARCH ANALYSTS,522210,1,1,0,0,0,0,0,Y,49800.0,Year,,Other,2015.0,TOWERS WATSON DATA SERVICES 2015 CSR PROFESSIONAL (ADMINISTRATIVE AND SALES) C,53000.0,57200.0,Year,N,N,,Y,,RIVERWOODS,LAKE,IL,60015,2016-03-08',\n",
       " u'2,I-200-16063-996093,CERTIFIED-WITHDRAWN,2016-03-10,2016-10-01,H-1B,2016-09-09,2019-09-09,EASTBANC TECHNOLOGIES LLC,,1211 31ST ST. NW,WASHINGTON,DC,20007,UNITED STATES OF AMERICA,,2022953000,,Y,\"BURKE, KAREN\",WASHINGTON,DC,.NET SOFTWARE PROGRAMMER,15-1131,COMPUTER PROGRAMMERS,541511,2,2,0,0,0,0,0,Y,76502.0,Year,Level II,OES,2015.0,OFLC ONLINE DATA CENTER,77000.0,0.0,Year,Y,N,Y,,,WASHINGTON,,DC,20007,2016-03-16',\n",
       " u'3,I-200-16272-196340,WITHDRAWN,2016-09-28,2016-10-01,H-1B,2017-01-26,2020-01-25,INFO SERVICES LLC,,17177 NORTH LAUREL PARK DR,LIVONIA,MI,48152,UNITED STATES OF AMERICA,,7343776007,,N,\",\",,,PROJECT MANAGER,15-1199,\"COMPUTER OCCUPATIONS, ALL OTHER\",541511,1,1,0,0,0,0,0,Y,90376.0,Year,Level III,OES,2016.0,OFLC ONLINE DATA CENTER,102000.0,0.0,Year,Y,N,Y,,,JERSEY CITY,HUDSON,NJ,07302,']"
      ]
     },
     "execution_count": 2,
     "metadata": {},
     "output_type": "execute_result"
    }
   ],
   "source": [
    "#Read the data\n",
    "h1b_data = sc.textFile(\\\n",
    "           \"hdfs://quickstart.cloudera:8020/user/cloudera/Project/H-1B_Disclosure_Data_FY17.csv\")\n",
    "h1b_data.take(5)"
   ]
  },
  {
   "cell_type": "code",
   "execution_count": 3,
   "metadata": {
    "collapsed": true
   },
   "outputs": [],
   "source": [
    "def createRow(data, headers):\n",
    "    data_dict = {}\n",
    "    data_list = data.split(\",\")\n",
    "    for i in range(len(headers)):\n",
    "        if(headers[i] != \"\"):\n",
    "            data_dict[headers[i]] = data_list[i]\n",
    "    #print(data_dict)\n",
    "    return data_dict"
   ]
  },
  {
   "cell_type": "code",
   "execution_count": 4,
   "metadata": {
    "collapsed": false
   },
   "outputs": [
    {
     "data": {
      "text/plain": [
       "[u'',\n",
       " u'CASE_NUMBER',\n",
       " u'CASE_STATUS',\n",
       " u'CASE_SUBMITTED',\n",
       " u'DECISION_DATE',\n",
       " u'VISA_CLASS',\n",
       " u'EMPLOYMENT_START_DATE',\n",
       " u'EMPLOYMENT_END_DATE',\n",
       " u'EMPLOYER_NAME',\n",
       " u'EMPLOYER_BUSINESS_DBA',\n",
       " u'EMPLOYER_ADDRESS',\n",
       " u'EMPLOYER_CITY',\n",
       " u'EMPLOYER_STATE',\n",
       " u'EMPLOYER_POSTAL_CODE',\n",
       " u'EMPLOYER_COUNTRY',\n",
       " u'EMPLOYER_PROVINCE',\n",
       " u'EMPLOYER_PHONE',\n",
       " u'EMPLOYER_PHONE_EXT',\n",
       " u'AGENT_REPRESENTING_EMPLOYER',\n",
       " u'AGENT_ATTORNEY_NAME',\n",
       " u'AGENT_ATTORNEY_CITY',\n",
       " u'AGENT_ATTORNEY_STATE',\n",
       " u'JOB_TITLE',\n",
       " u'SOC_CODE',\n",
       " u'SOC_NAME',\n",
       " u'NAICS_CODE',\n",
       " u'TOTAL_WORKERS',\n",
       " u'NEW_EMPLOYMENT',\n",
       " u'CONTINUED_EMPLOYMENT',\n",
       " u'CHANGE_PREVIOUS_EMPLOYMENT',\n",
       " u'NEW_CONCURRENT_EMPLOYMENT',\n",
       " u'CHANGE_EMPLOYER',\n",
       " u'AMENDED_PETITION',\n",
       " u'FULL_TIME_POSITION',\n",
       " u'PREVAILING_WAGE',\n",
       " u'PW_UNIT_OF_PAY',\n",
       " u'PW_WAGE_LEVEL',\n",
       " u'PW_SOURCE',\n",
       " u'PW_SOURCE_YEAR',\n",
       " u'PW_SOURCE_OTHER',\n",
       " u'WAGE_RATE_OF_PAY_FROM',\n",
       " u'WAGE_RATE_OF_PAY_TO',\n",
       " u'WAGE_UNIT_OF_PAY',\n",
       " u'H1B_DEPENDENT',\n",
       " u'WILLFUL_VIOLATOR',\n",
       " u'SUPPORT_H1B',\n",
       " u'LABOR_CON_AGREE',\n",
       " u'PUBLIC_DISCLOSURE_LOCATION',\n",
       " u'WORKSITE_CITY',\n",
       " u'WORKSITE_COUNTY',\n",
       " u'WORKSITE_STATE',\n",
       " u'WORKSITE_POSTAL_CODE',\n",
       " u'ORIGINAL_CERT_DATE']"
      ]
     },
     "execution_count": 4,
     "metadata": {},
     "output_type": "execute_result"
    }
   ],
   "source": [
    "#Get the headers\n",
    "headers_string = h1b_data.take(1)[0]\n",
    "headers = headers_string.split(\",\")\n",
    "headers"
   ]
  },
  {
   "cell_type": "code",
   "execution_count": 5,
   "metadata": {
    "collapsed": false
   },
   "outputs": [
    {
     "data": {
      "text/plain": [
       "[u'0,I-200-16055-173457,CERTIFIED-WITHDRAWN,2016-02-24,2016-10-01,H-1B,2016-08-10,2019-08-10,DISCOVER PRODUCTS INC.,,2500 LAKE COOK ROAD,RIVERWOODS,IL,60015,UNITED STATES OF AMERICA,,2244050900,,Y,\"ELLSWORTH, CHAD\",NEW YORK,NY,ASSOCIATE DATA INTEGRATION,15-1121,COMPUTER SYSTEMS ANALYSTS,522210,1,1,0,0,0,0,0,Y,59197.0,Year,Level I,OES,2015.0,OFLC ONLINE DATA CENTER,65811.0,67320.0,Year,N,N,,Y,,RIVERWOODS,LAKE,IL,60015,2016-03-01']"
      ]
     },
     "execution_count": 5,
     "metadata": {},
     "output_type": "execute_result"
    }
   ],
   "source": [
    "#Remove the header from the data\n",
    "h1b_data = h1b_data.filter(lambda x: x != headers_string)\n",
    "h1b_data.take(1)"
   ]
  },
  {
   "cell_type": "code",
   "execution_count": 6,
   "metadata": {
    "collapsed": false
   },
   "outputs": [
    {
     "data": {
      "text/plain": [
       "[Row(AGENT_ATTORNEY_CITY=u' CHAD\"', AGENT_ATTORNEY_NAME=u'\"ELLSWORTH', AGENT_ATTORNEY_STATE=u'NEW YORK', AGENT_REPRESENTING_EMPLOYER=u'Y', AMENDED_PETITION=u'0', CASE_NUMBER=u'I-200-16055-173457', CASE_STATUS=u'CERTIFIED-WITHDRAWN', CASE_SUBMITTED=u'2016-02-24', CHANGE_EMPLOYER=u'0', CHANGE_PREVIOUS_EMPLOYMENT=u'0', CONTINUED_EMPLOYMENT=u'1', DECISION_DATE=u'2016-10-01', EMPLOYER_ADDRESS=u'2500 LAKE COOK ROAD', EMPLOYER_BUSINESS_DBA=u'', EMPLOYER_CITY=u'RIVERWOODS', EMPLOYER_COUNTRY=u'UNITED STATES OF AMERICA', EMPLOYER_NAME=u'DISCOVER PRODUCTS INC.', EMPLOYER_PHONE=u'2244050900', EMPLOYER_PHONE_EXT=u'', EMPLOYER_POSTAL_CODE=u'60015', EMPLOYER_PROVINCE=u'', EMPLOYER_STATE=u'IL', EMPLOYMENT_END_DATE=u'2019-08-10', EMPLOYMENT_START_DATE=u'2016-08-10', FULL_TIME_POSITION=u'0', H1B_DEPENDENT=u'Year', JOB_TITLE=u'NY', LABOR_CON_AGREE=u'', NAICS_CODE=u'COMPUTER SYSTEMS ANALYSTS', NEW_CONCURRENT_EMPLOYMENT=u'0', NEW_EMPLOYMENT=u'1', ORIGINAL_CERT_DATE=u'60015', PREVAILING_WAGE=u'Y', PUBLIC_DISCLOSURE_LOCATION=u'Y', PW_SOURCE=u'Level I', PW_SOURCE_OTHER=u'2015.0', PW_SOURCE_YEAR=u'OES', PW_UNIT_OF_PAY=u'59197.0', PW_WAGE_LEVEL=u'Year', SOC_CODE=u'ASSOCIATE DATA INTEGRATION', SOC_NAME=u'15-1121', SUPPORT_H1B=u'N', TOTAL_WORKERS=u'522210', VISA_CLASS=u'H-1B', WAGE_RATE_OF_PAY_FROM=u'OFLC ONLINE DATA CENTER', WAGE_RATE_OF_PAY_TO=u'65811.0', WAGE_UNIT_OF_PAY=u'67320.0', WILLFUL_VIOLATOR=u'N', WORKSITE_CITY=u'', WORKSITE_COUNTY=u'RIVERWOODS', WORKSITE_POSTAL_CODE=u'IL', WORKSITE_STATE=u'LAKE')]"
      ]
     },
     "execution_count": 6,
     "metadata": {},
     "output_type": "execute_result"
    }
   ],
   "source": [
    "h1b_data_frame = h1b_data.map(lambda x: Row(**createRow(x, headers))).toDF()\n",
    "h1b_data_frame.take(1)"
   ]
  },
  {
   "cell_type": "code",
   "execution_count": 8,
   "metadata": {
    "collapsed": false
   },
   "outputs": [
    {
     "name": "stdout",
     "output_type": "stream",
     "text": [
      "+-------------------+-------------------+--------------------+---------------------------+----------------+------------------+-------------------+--------------+---------------+--------------------------+--------------------+-------------+--------------------+---------------------+-------------+--------------------+--------------------+--------------+------------------+--------------------+-----------------+--------------+-------------------+---------------------+------------------+-------------+---------+---------------+--------------------+-------------------------+--------------+------------------+---------------+--------------------------+---------+---------------+--------------+--------------+-------------+--------------------+--------+-----------+-----------------+----------+---------------------+--------------------+----------------+----------------+-------------+---------------+--------------------+--------------+\n",
      "|AGENT_ATTORNEY_CITY|AGENT_ATTORNEY_NAME|AGENT_ATTORNEY_STATE|AGENT_REPRESENTING_EMPLOYER|AMENDED_PETITION|       CASE_NUMBER|        CASE_STATUS|CASE_SUBMITTED|CHANGE_EMPLOYER|CHANGE_PREVIOUS_EMPLOYMENT|CONTINUED_EMPLOYMENT|DECISION_DATE|    EMPLOYER_ADDRESS|EMPLOYER_BUSINESS_DBA|EMPLOYER_CITY|    EMPLOYER_COUNTRY|       EMPLOYER_NAME|EMPLOYER_PHONE|EMPLOYER_PHONE_EXT|EMPLOYER_POSTAL_CODE|EMPLOYER_PROVINCE|EMPLOYER_STATE|EMPLOYMENT_END_DATE|EMPLOYMENT_START_DATE|FULL_TIME_POSITION|H1B_DEPENDENT|JOB_TITLE|LABOR_CON_AGREE|          NAICS_CODE|NEW_CONCURRENT_EMPLOYMENT|NEW_EMPLOYMENT|ORIGINAL_CERT_DATE|PREVAILING_WAGE|PUBLIC_DISCLOSURE_LOCATION|PW_SOURCE|PW_SOURCE_OTHER|PW_SOURCE_YEAR|PW_UNIT_OF_PAY|PW_WAGE_LEVEL|            SOC_CODE|SOC_NAME|SUPPORT_H1B|    TOTAL_WORKERS|VISA_CLASS|WAGE_RATE_OF_PAY_FROM| WAGE_RATE_OF_PAY_TO|WAGE_UNIT_OF_PAY|WILLFUL_VIOLATOR|WORKSITE_CITY|WORKSITE_COUNTY|WORKSITE_POSTAL_CODE|WORKSITE_STATE|\n",
      "+-------------------+-------------------+--------------------+---------------------------+----------------+------------------+-------------------+--------------+---------------+--------------------------+--------------------+-------------+--------------------+---------------------+-------------+--------------------+--------------------+--------------+------------------+--------------------+-----------------+--------------+-------------------+---------------------+------------------+-------------+---------+---------------+--------------------+-------------------------+--------------+------------------+---------------+--------------------------+---------+---------------+--------------+--------------+-------------+--------------------+--------+-----------+-----------------+----------+---------------------+--------------------+----------------+----------------+-------------+---------------+--------------------+--------------+\n",
      "|              CHAD\"|         \"ELLSWORTH|            NEW YORK|                          Y|               0|I-200-16055-173457|CERTIFIED-WITHDRAWN|    2016-02-24|              0|                         0|                   1|   2016-10-01| 2500 LAKE COOK ROAD|                     |   RIVERWOODS|UNITED STATES OF ...|DISCOVER PRODUCTS...|    2244050900|                  |               60015|                 |            IL|         2019-08-10|           2016-08-10|                 0|         Year|       NY|               |COMPUTER SYSTEMS ...|                        0|             1|             60015|              Y|                         Y|  Level I|         2015.0|           OES|       59197.0|         Year|ASSOCIATE DATA IN...| 15-1121|          N|           522210|      H-1B| OFLC ONLINE DATA ...|             65811.0|         67320.0|               N|             |     RIVERWOODS|                  IL|          LAKE|\n",
      "|              CHAD\"|         \"ELLSWORTH|            NEW YORK|                          Y|               0|I-200-16064-557834|CERTIFIED-WITHDRAWN|    2016-03-04|              0|                         0|                   1|   2016-10-01| 2500 LAKE COOK ROAD|                     |   RIVERWOODS|UNITED STATES OF ...|    DFS SERVICES LLC|    2244050900|                  |               60015|                 |            IL|         2019-08-16|           2016-08-16|                 0|         Year|       NY|               |OPERATIONS RESEAR...|                        0|             1|             60015|              Y|                         Y|         |         2015.0|         Other|       49800.0|         Year|    SENIOR ASSOCIATE| 15-2031|          N|           522210|      H-1B| TOWERS WATSON DAT...|             53000.0|         57200.0|               N|             |     RIVERWOODS|                  IL|          LAKE|\n",
      "|             KAREN\"|             \"BURKE|          WASHINGTON|                          Y|               0|I-200-16063-996093|CERTIFIED-WITHDRAWN|    2016-03-10|              0|                         0|                   2|   2016-10-01|    1211 31ST ST. NW|                     |   WASHINGTON|UNITED STATES OF ...|EASTBANC TECHNOLO...|    2022953000|                  |               20007|                 |            DC|         2019-09-09|           2016-09-09|                 0|         Year|       DC|              Y|COMPUTER PROGRAMMERS|                        0|             2|             20007|              Y|                          | Level II|         2015.0|           OES|       76502.0|         Year|.NET SOFTWARE PRO...| 15-1131|          N|           541511|      H-1B| OFLC ONLINE DATA ...|             77000.0|             0.0|               Y|             |     WASHINGTON|                  DC|              |\n",
      "|            EILEEN\"|          \"SCOFIELD|             ATLANTA|                          Y|               1|I-200-15053-636744|CERTIFIED-WITHDRAWN|    2015-02-22|              0|                         0|                   0|   2016-10-02|223 WEST NASH STREET|                     |       WILSON|UNITED STATES OF ...|    BB&T CORPORATION|    2522462031|                  |               27893|                 |            NC|         2018-03-01|           2015-03-01|                 0|         Year|       GA|               |     CREDIT ANALYSTS|                        0|             1|             10036|              Y|                         Y|Level III|         2015.0|           OES|      116605.0|         Year|ASSOCIATE - ESOTE...| 13-2041|          N|           522110|      H-1B| OFLC ONLINE DATA ...|            132500.0|             0.0|               N|             |       NEW YORK|                  NY|      NEW YORK|\n",
      "|             JATIN\"|              \"SHAH|        INDIANAPOLIS|                          Y|               1|I-200-16276-853235|          WITHDRAWN|    2016-10-02|              0|                         0|                   0|   2016-10-02|8888  KEYSTONE CR...|                     | INDIANAPOLIS|UNITED STATES OF ...|            ITAS INC|    3175758950|                  |               46240|                 |            IN|         2019-10-07|           2016-10-08|                 0|         Year|       IN|               |COMPUTER SYSTEMS ...|                        0|             1|             11747|              Y|                         Y|  Level I|         2016.0|           OES|       54600.0|         Year|COMPUTER SYSTEM A...| 15-1121|          N|           541519|      H-1B| OFLC ONLINE DATA ...|             55000.0|             0.0|               N|             |       MELVILLE|                  NY|       SUFFOLK|\n",
      "|               Pia\"|             \"Kappy|            NEW YORK|                          Y|               1|I-200-14009-296787|CERTIFIED-WITHDRAWN|    2014-03-25|              0|                         0|                   0|   2016-10-03|300 WEST 57TH STREET|                     |     NEW YORK|UNITED STATES OF ...|HEARST COMMUNICAT...|    2126492000|                  |               10019|                 |            NY|         2017-03-17|           2014-03-25|                 0|         Year|       NY|               |      SALES MANAGERS|                        0|             1|             10019|              Y|                         Y|         |         2013.0|         Other|       97900.0|         Year|INTEGRATED SALES ...| 11-2022|          N|           511120|      H-1B| TOWERS WATSON DAT...|            120000.0|             0.0|               N|             |       NEW YORK|                  NY|      NEW YORK|\n",
      "|           DEBORAH\"|            \"WARREN|     COLLEGE STATION|                          Y|               0|I-200-14162-142244|CERTIFIED-WITHDRAWN|    2014-06-12|              0|                         0|                   1|   2016-10-03|          BOX T-0510|                     | STEPHENVILLE|UNITED STATES OF ...|TARLETON STATE UN...|    2549689833|                  |               76402|                 |            TX|         2017-09-21|           2014-09-22|                 0|         Year|       TX|               |OPERATIONS RESEAR...|                        0|             1|             76401|              Y|                         Y| Level II|         2013.0|           OES|       50523.0|         Year|SR. RESEARCH ASSO...| 15-2031|          N|           611310|      H-1B| OFLC ONLINE WAGE ...|             51533.0|             0.0|               N|             |   STEPHENVILLE|                  TX|         ERATH|\n",
      "|           CHARINA\"|            \"GARCIA|             OAKLAND|                          Y|               0|I-200-14167-173987|CERTIFIED-WITHDRAWN|    2014-06-17|              0|                         0|                   1|   2016-10-03|2860 JUNCTION AVENUE|                     |     SAN JOSE|UNITED STATES OF ...|   MEDIATEK USA INC.|    4085261899|                  |               95134|                 |            CA|         2017-11-24|           2014-11-24|                 0|     125000.0|       CA|              N|\"ELECTRONICS ENGI...|                        1|        334410|                TX|              0|                          |     Year|            OES|     Level III|             Y|      94640.0|MEMBER OF TECHNIC...| 17-2072|          N| EXCEPT COMPUTER\"|      H-1B|               2013.0|OFLC ONLINE DATA ...|         94640.0|            Year|             |               |              TRAVIS|        AUSTIN|\n",
      "|          SHEHRYAR\"|          \"CHAUDHRY|       SAN FRANCISCO|                          Y|               1|I-200-14225-537395|CERTIFIED-WITHDRAWN|    2014-08-13|              0|                         0|                   0|   2016-10-03|800 W. EL CAMINO ...|                     |MOUNTAIN VIEW|UNITED STATES OF ...|         OOYALA INC.|    6503163422|                  |               94040|                 |            CA|         2017-08-20|           2014-08-20|                 0|         Year|       CA|               |COMPUTER AND INFO...|                        0|             1|             94040|              Y|                          |         |         2014.0|         Other|       99337.0|         Year|ASSOCIATE PRODUCT...| 11-3021|          N|           511210|      H-1B| RADFORD GLOBAL TE...|            115000.0|             0.0|               N|             |  MOUNTAIN VIEW|                  CA|   SANTA CLARA|\n",
      "|           CHARINA\"|            \"GARCIA|             OAKLAND|                          Y|               0|I-200-14267-239206|CERTIFIED-WITHDRAWN|    2014-09-24|              0|                         0|                   1|   2016-10-03|2860 JUNCTION AVENUE|                     |     SAN JOSE|UNITED STATES OF ...|   MEDIATEK USA INC.|    4085261899|                  |               95134|                 |            CA|         2017-10-06|           2014-10-06|                 1|          0.0|       CA|              N|\"SOFTWARE DEVELOPERS|                        0|        334410|                CA|              0|                          |     Year|          Other|              |             Y|      80962.0|   SOFTWARE ENGINEER| 15-1132|          N|    APPLICATIONS\"|      H-1B|               2014.0|RADFORD GLOBAL TE...|         87300.0|            Year|             |               |         SANTA CLARA|      SAN JOSE|\n",
      "|           CHARINA\"|            \"GARCIA|             OAKLAND|                          Y|               0|I-200-15044-068011|CERTIFIED-WITHDRAWN|    2015-02-18|              0|                         1|                   1|   2016-10-03|2860 JUNCTION AVENUE|                     |     SAN JOSE|UNITED STATES OF ...|   MEDIATEK USA INC.|    4085261899|                  |               95134|                 |            CA|         2018-08-15|           2015-08-15|                 0|      97000.0|       CA|              N|\"SOFTWARE DEVELOPERS|                        0|        334410|                CA|              0|                          |     Year|          Other|              |             Y|      80153.0|   SOFTWARE ENGINEER| 15-1132|          N|    APPLICATIONS\"|      H-1B|               2015.0|RADFORD GLOBAL TE...|         81000.0|            Year|             |               |         SANTA CLARA|      SAN JOSE|\n",
      "|           CHARINA\"|            \"GARCIA|             OAKLAND|                          Y|               0|I-200-15043-414842|CERTIFIED-WITHDRAWN|    2015-02-18|              0|                         1|                   1|   2016-10-03|2860 JUNCTION AVENUE|                     |     SAN JOSE|UNITED STATES OF ...|   MEDIATEK USA INC.|    4085261899|                  |               95134|                 |            CA|         2018-08-14|           2015-08-14|                 0|     105905.0|       CA|              N|\"SOFTWARE DEVELOPERS|                        0|        334410|                CA|              0|                          |     Year|            OES|       Level I|             Y|      88254.0|            ENGINEER| 15-1132|          N|    APPLICATIONS\"|      H-1B|               2014.0|OFLC ONLINE DATA ...|         88254.0|            Year|             |               |         SANTA CLARA|      SAN JOSE|\n",
      "|           CHARINA\"|            \"GARCIA|             OAKLAND|                          Y|               0|I-200-15043-657664|CERTIFIED-WITHDRAWN|    2015-02-18|              0|                         0|                   1|   2016-10-03|2860 JUNCTION AVENUE|                     |     SAN JOSE|UNITED STATES OF ...|   MEDIATEK USA INC.|    4085261899|                  |               95134|                 |            CA|         2018-08-14|           2015-08-14|                 0|         Year|       CA|               |ELECTRICAL ENGINEERS|                        0|             1|             95134|              Y|                          | Level II|         2014.0|           OES|      102606.0|         Year|MEMBER OF TECHNIC...| 17-2071|          N|           334410|      H-1B| OFLC ONLINE DATA ...|            102606.0|        123127.0|               N|             |       SAN JOSE|                  CA|   SANTA CLARA|\n",
      "|           CHARINA\"|            \"GARCIA|             OAKLAND|                          Y|               0|I-200-15044-321683|CERTIFIED-WITHDRAWN|    2015-02-19|              0|                         0|                   1|   2016-10-03|2860 JUNCTION AVENUE|                     |     SAN JOSE|UNITED STATES OF ...|   MEDIATEK USA INC.|    4085261899|                  |               95134|                 |            CA|         2018-08-15|           2015-08-15|                 0|         Year|       CA|               |ELECTRICAL ENGINEERS|                        0|             1|             78730|              Y|                          | Level IV|         2014.0|           OES|      116667.0|         Year|SR. MEMBER OF TEC...| 17-2071|          N|           334410|      H-1B| OFLC ONLINE DATA ...|            117000.0|        139000.0|               N|             |         AUSTIN|                  TX|        TRAVIS|\n",
      "|          SHEHRYAR\"|          \"CHAUDHRY|       SAN FRANCISCO|                          Y|               0|I-200-15038-143420|CERTIFIED-WITHDRAWN|    2015-02-19|              0|                         1|                   1|   2016-10-03|4750 PATRICK HENR...|                     |  SANTA CLARA|UNITED STATES OF ...|         OOYALA INC.|    6503163422|                  |               95054|                 |            CA|         2018-08-07|           2015-08-07|                 0|     115000.0|       CA|              N|\"SOFTWARE DEVELOPERS|                        0|        511210|                CA|              0|                          |     Year|            OES|      Level II|             Y|     109762.0|SOFTWARE ENGINEER II| 15-1132|          N|    APPLICATIONS\"|      H-1B|               2014.0|OFLC ONLINE DATA ...|        115000.0|            Year|             |               |         SANTA CLARA|   SANTA CLARA|\n",
      "|           CHARINA\"|            \"GARCIA|             OAKLAND|                          Y|               0|I-200-15049-335834|CERTIFIED-WITHDRAWN|    2015-02-20|              0|                         0|                   1|   2016-10-03|2860 JUNCTION AVENUE|                     |     SAN JOSE|UNITED STATES OF ...|   MEDIATEK USA INC.|    4085261899|                  |               95134|                 |            CA|         2018-08-22|           2015-08-22|                 0|         Year|       CA|               |  MARKETING MANAGERS|                        0|             1|             95134|              Y|                          |         |         2015.0|         Other|      111439.0|         Year|     PARTNER MANAGER| 11-2021|          N|           334410|      H-1B| RADFORD GLOBAL TE...|            114000.0|        137000.0|               N|             |       SAN JOSE|                  CA|   SANTA CLARA|\n",
      "|           CHARINA\"|            \"GARCIA|             OAKLAND|                          Y|               0|I-200-15044-410261|CERTIFIED-WITHDRAWN|    2015-02-23|              0|                         1|                   1|   2016-10-03|2860 JUNCTION AVENUE|                     |     SAN JOSE|UNITED STATES OF ...|   MEDIATEK USA INC.|    4085261899|                  |               95134|                 |            CA|         2018-08-13|           2015-08-13|                 0|     104000.0|       CA|              N|\"ELECTRONICS ENGI...|                        0|        334410|                TX|              0|                          |     Year|            OES|      Level II|             Y|      86507.0|      STAFF ENGINEER| 17-2072|          N| EXCEPT COMPUTER\"|      H-1B|               2014.0|OFLC ONLINE DATA ...|         87000.0|            Year|             |               |              TRAVIS|        AUSTIN|\n",
      "|        PRASHANTHI\"|             \"REDDY|            NEW YORK|                          Y|               0|I-200-15058-383675|CERTIFIED-WITHDRAWN|    2015-03-02|              0|                         1|                   1|   2016-10-03|8818 COMMODITY CI...|                     |      ORLANDO|UNITED STATES OF ...|          AARCG INC.|    8477806014|                  |               32819|                 |            FL|         2018-07-31|           2015-08-01|                 0|          0.0|       NY|              N|\"COMPUTER OCCUPAT...|                        0|        541511|                NJ|              0|                          |     Year|            OES|      Level IV|             Y|      96866.0|BUSINESS INTELLIG...| 15-1199|          N|       ALL OTHER\"|      H-1B|               2014.0|OFLC ONLINE DATA ...|         96866.0|            Year|             |               |              HUDSON|       HOBOKEN|\n",
      "|           CHARINA\"|            \"GARCIA|             OAKLAND|                          Y|               0|I-200-15075-207839|CERTIFIED-WITHDRAWN|    2015-03-19|              0|                         0|                   1|   2016-10-03|2860 JUNCTION AVENUE|                     |     SAN JOSE|UNITED STATES OF ...|   MEDIATEK USA INC.|    4085261899|                  |               95134|                 |            CA|         2018-09-15|           2015-09-15|                 0|         Year|       CA|               |   TECHNICAL WRITERS|                        0|             1|             95134|              Y|                          | Level II|         2014.0|           OES|       84594.0|         Year|    TECHNICAL WRITER| 27-3042|          N|           334410|      H-1B| OFLC ONLINE DATA ...|             85000.0|        102000.0|               N|             |       SAN JOSE|                  CA|   SANTA CLARA|\n",
      "|           CHARINA\"|            \"GARCIA|             OAKLAND|                          Y|               0|I-200-15077-797855|CERTIFIED-WITHDRAWN|    2015-03-25|              0|                         1|                   1|   2016-10-03|2860 JUNCTION AVENUE|                     |     SAN JOSE|UNITED STATES OF ...|   MEDIATEK USA INC.|    4085261899|                  |               95134|                 |            CA|         2018-09-17|           2015-09-17|                 0|     143000.0|       CA|              N|\"ELECTRONICS ENGI...|                        0|        334410|                TX|              0|                          |     Year|            OES|      Level IV|             Y|     119746.0|   TECHNICAL MANAGER| 17-2072|          N| EXCEPT COMPUTER\"|      H-1B|               2014.0|OFLC ONLINE DATA ...|        120000.0|            Year|             |               |              TRAVIS|        AUSTIN|\n",
      "+-------------------+-------------------+--------------------+---------------------------+----------------+------------------+-------------------+--------------+---------------+--------------------------+--------------------+-------------+--------------------+---------------------+-------------+--------------------+--------------------+--------------+------------------+--------------------+-----------------+--------------+-------------------+---------------------+------------------+-------------+---------+---------------+--------------------+-------------------------+--------------+------------------+---------------+--------------------------+---------+---------------+--------------+--------------+-------------+--------------------+--------+-----------+-----------------+----------+---------------------+--------------------+----------------+----------------+-------------+---------------+--------------------+--------------+\n",
      "only showing top 20 rows\n",
      "\n"
     ]
    }
   ],
   "source": [
    "h1b_data_frame[h1b_data_frame.AGENT_REPRESENTING_EMPLOYER == \"Y\"].show()"
   ]
  }
 ],
 "metadata": {
  "kernelspec": {
   "display_name": "Python 2",
   "language": "python",
   "name": "python2"
  },
  "language_info": {
   "codemirror_mode": {
    "name": "ipython",
    "version": 2
   },
   "file_extension": ".py",
   "mimetype": "text/x-python",
   "name": "python",
   "nbconvert_exporter": "python",
   "pygments_lexer": "ipython2",
   "version": "2.7.13"
  }
 },
 "nbformat": 4,
 "nbformat_minor": 2
}
